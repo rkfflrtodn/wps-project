{
 "cells": [
  {
   "cell_type": "code",
   "execution_count": 54,
   "metadata": {},
   "outputs": [],
   "source": [
    "import requests"
   ]
  },
  {
   "cell_type": "markdown",
   "metadata": {},
   "source": [
    "## Restaurant_list"
   ]
  },
  {
   "cell_type": "code",
   "execution_count": 59,
   "metadata": {},
   "outputs": [],
   "source": [
    "url = 'https://www.yogiyo.co.kr/api/v1/restaurants-geo/'\n",
    "# ?items=20&lat=37.545583199999996&lng=127.0577153&order=rank&page=0&search=&zip_code=133123\n",
    "params = dict(\n",
    "    items=20,\n",
    "    order='rank',\n",
    "    page=0,\n",
    "    search='',\n",
    "    zip_code='133123',\n",
    ")\n",
    "\n",
    "headers = {\n",
    "    'X-ApiKey': 'iphoneap',\n",
    "    'X-ApiSecret': 'fe5183cc3dea12bd0ce299cf110a75a2',\n",
    "    'X-MOD-SBB-CTYPE': 'xhr',\n",
    "}\n",
    "    "
   ]
  },
  {
   "cell_type": "code",
   "execution_count": 20,
   "metadata": {},
   "outputs": [
    {
     "data": {
      "text/plain": [
       "<Response [200]>"
      ]
     },
     "execution_count": 20,
     "metadata": {},
     "output_type": "execute_result"
    }
   ],
   "source": [
    "res = requests.get(url, params=params, headers=headers)\n",
    "res"
   ]
  },
  {
   "cell_type": "code",
   "execution_count": 21,
   "metadata": {},
   "outputs": [
    {
     "data": {
      "text/plain": [
       "20"
      ]
     },
     "execution_count": 21,
     "metadata": {},
     "output_type": "execute_result"
    }
   ],
   "source": [
    "restaurant_list = res.json()['restaurants']\n",
    "len(restaurant_list)"
   ]
  },
  {
   "cell_type": "code",
   "execution_count": 22,
   "metadata": {},
   "outputs": [],
   "source": [
    "# name : 이름\n",
    "# lat : 위도\n",
    "# lng : 경도\n",
    "# address : 주소"
   ]
  },
  {
   "cell_type": "code",
   "execution_count": 42,
   "metadata": {},
   "outputs": [
    {
     "data": {
      "text/plain": [
       "'원할머니보쌈-성수점'"
      ]
     },
     "execution_count": 42,
     "metadata": {},
     "output_type": "execute_result"
    }
   ],
   "source": [
    "restaurant_list[0]['name']"
   ]
  },
  {
   "cell_type": "code",
   "execution_count": 24,
   "metadata": {},
   "outputs": [],
   "source": [
    "import json"
   ]
  },
  {
   "cell_type": "code",
   "execution_count": 27,
   "metadata": {},
   "outputs": [],
   "source": [
    "with open('restaurant_list.json', 'wt', encoding='utf8') as f:\n",
    "    f.write(json.dumps(restaurant_list, ensure_ascii=False))"
   ]
  },
  {
   "cell_type": "markdown",
   "metadata": {},
   "source": [
    "## Restaurant_detail"
   ]
  },
  {
   "cell_type": "code",
   "execution_count": 47,
   "metadata": {},
   "outputs": [],
   "source": [
    "detail_url = 'https://www.yogiyo.co.kr/api/v1/restaurants/54607/menu/?add_photo_menu=android&additional_discount_per_menu=true'"
   ]
  },
  {
   "cell_type": "code",
   "execution_count": 48,
   "metadata": {},
   "outputs": [
    {
     "data": {
      "text/plain": [
       "<Response [200]>"
      ]
     },
     "execution_count": 48,
     "metadata": {},
     "output_type": "execute_result"
    }
   ],
   "source": [
    "res = requests.get(detail_url, headers=headers)\n",
    "res"
   ]
  },
  {
   "cell_type": "code",
   "execution_count": 49,
   "metadata": {},
   "outputs": [],
   "source": [
    "menu_list = res.json()"
   ]
  },
  {
   "cell_type": "code",
   "execution_count": 50,
   "metadata": {},
   "outputs": [],
   "source": [
    "with open('menu_list.json', 'wt', encoding='utf8') as f:\n",
    "    f.write(json.dumps(menu_list, ensure_ascii=False))"
   ]
  },
  {
   "cell_type": "code",
   "execution_count": 51,
   "metadata": {},
   "outputs": [],
   "source": [
    "image_url = menu_list[0]['items'][0]['image']"
   ]
  },
  {
   "cell_type": "code",
   "execution_count": 52,
   "metadata": {},
   "outputs": [
    {
     "data": {
      "text/plain": [
       "'/media/img/test_images/PARTNER_FR_IMG/%EC%9B%90%ED%95%A0%EB%A8%B8%EB%8B%88%EB%B3%B4%EC%8C%88/2018-11-06/%EC%A0%9C%ED%9C%B4fr_20181106_%EC%9B%90%ED%95%A0%EB%A8%B8%EB%8B%88%EB%B3%B4%EC%8C%88_%EA%B0%84%EC%9E%A5%ED%86%B5%EB%A7%88%EB%8A%98%EB%96%A1%EB%B3%B4%EC%8C%88_1080x640_menuitem_android.jpg'"
      ]
     },
     "execution_count": 52,
     "metadata": {},
     "output_type": "execute_result"
    }
   ],
   "source": [
    "image_url"
   ]
  },
  {
   "cell_type": "code",
   "execution_count": 55,
   "metadata": {},
   "outputs": [],
   "source": [
    "from urllib.parse import urljoin"
   ]
  },
  {
   "cell_type": "code",
   "execution_count": 56,
   "metadata": {},
   "outputs": [
    {
     "data": {
      "text/plain": [
       "'https://www.yogiyo.co.kr/media/img/test_images/PARTNER_FR_IMG/%EC%9B%90%ED%95%A0%EB%A8%B8%EB%8B%88%EB%B3%B4%EC%8C%88/2018-11-06/%EC%A0%9C%ED%9C%B4fr_20181106_%EC%9B%90%ED%95%A0%EB%A8%B8%EB%8B%88%EB%B3%B4%EC%8C%88_%EA%B0%84%EC%9E%A5%ED%86%B5%EB%A7%88%EB%8A%98%EB%96%A1%EB%B3%B4%EC%8C%88_1080x640_menuitem_android.jpg'"
      ]
     },
     "execution_count": 56,
     "metadata": {},
     "output_type": "execute_result"
    }
   ],
   "source": [
    "urljoin(url, image_url)"
   ]
  },
  {
   "cell_type": "code",
   "execution_count": 63,
   "metadata": {},
   "outputs": [
    {
     "name": "stdout",
     "output_type": "stream",
     "text": [
      "{'pagination': {'per_page': 20, 'total_objects': 434, 'current_page': 0, 'total_pages': 22}, 'restaurants': [{'rating': 200032.348626957, 'subtitle': '', 'additional_discount_currently_active': True, 'free_delivery_threshold': 0, 'delivery_fee_explanation': '최소 주문 금액 20000원 이상', 'is_available_delivery': True, 'threshold': 10000, 'adv_distance': None, 'open': True, 'discount_until': '2018-12-03T21:59:59.999999', 'central_billing': False, 'city': '서울', 'review_reply_count': 16, 'sms_bonus': False, 'franchise_id': 28, 'phone_downlisted': False, 'franchise_name': '(주)원앤원 / 원할머니보쌈', 'review_image_count': 50, 'top100_restaurant': False, 'is_available_pickup': False, 'additional_discount_per_menu': 3000, 'delivery_fee': 0, 'additional_discount_pickup': 0, 'phone': '050352575370', 'additional_discount_only_for_user': True, 'has_terminal': True, 'categories': ['족발보쌈', '프랜차이즈'], 'min_order_amount': 20000, 'distance': 0.7048500274915713, 'logo_url': '/media/restaurant_logos/원할머니보쌈02_20150716_Franchise이미지약정서_crop_200x200.jpg', 'except_cash': False, 'name': '원할머니보쌈-성수점', 'section_pos': 1, 'relay_methods': ['email', 'box_helicom', 'sms_relay'], 'one_dish': 0, 'discount_percent': 10, 'advertisement_type': 'contract', 'phone_order': True, 'dine_in': False, 'advertisement_rank': 1, 'thumbnail_message': '', 'additional_discount_pickup_per_menu': 0, 'open_time_description': '12:00 - 23:59', 'keywords': '원할머니보쌈-성수점 보쌈류 모둠보쌈 보쌈류 솜씨보쌈 보쌈류 간장통마늘떡보쌈 세트메뉴 보족원쌈（2인） 추가메뉴 새싹쟁반무침면小 족발류 부드러운족발（대） 보쌈류 맛보쌈 세트메뉴 커플원쌈 족발류 반반족발 세트메뉴 보족원쌈（3인）', 'new_rating': 1.0052576006454577, 'app_order': True, 'premium': {}, 'lng': 127.0545404, 'list_pos': 1, 'id': 54607, 'can_review': 0, 'estimated_delivery_time': '30~40분', 'additional_discount_pickup_only_for_user': False, 'review_count': 271, 'owner_reply_count': 16, 'section': 'hotdeal', 'loyal_score': 13.6556901535943, 'thumbnail_url': '', 'reachable': True, 'additional_discount': 0, 'new': False, 'minimum_pickup_minutes': 0, 'has_loyalty_support': True, 'begin': '12:00:00', 'description': '', 'tags': [], 'address': '서울 성동구 성수동2가 333-15', 'lat': 37.5397772, 'end': '23:59:00', 'slug': '원할머니보쌈-성수점', 'review_avg': 4.38376383763838, 'discount_from': '2018-12-03T16:00:00', 'top28': True, 'url': '', 'foodfly_restaurant_id': None, 'payment_methods': ['creditcard', 'online'], 'takeout': False}, {'rating': 200033.560218854, 'subtitle': '', 'additional_discount_currently_active': True, 'free_delivery_threshold': 0, 'delivery_fee_explanation': '최소 주문 금액 14000원 이상', 'is_available_delivery': True, 'threshold': 10000, 'adv_distance': None, 'open': True, 'discount_until': None, 'central_billing': False, 'city': '서울', 'review_reply_count': 15, 'sms_bonus': False, 'franchise_id': 80, 'phone_downlisted': False, 'franchise_name': '주식회사엠피그룹 / 미스터피자', 'review_image_count': 13, 'top100_restaurant': False, 'is_available_pickup': False, 'additional_discount_per_menu': 6000, 'delivery_fee': 0, 'additional_discount_pickup': 0, 'phone': '050712906158', 'additional_discount_only_for_user': True, 'has_terminal': True, 'categories': ['프랜차이즈', '피자양식'], 'min_order_amount': 14000, 'distance': 0.9154274479490304, 'logo_url': '/media/franchise_logos/미스터피자_20170417_Franchise이미지약정서_crop_200x200.JPG', 'except_cash': False, 'name': '미스터피자-성수점', 'section_pos': 2, 'relay_methods': ['email', 'box_helicom'], 'one_dish': 0, 'discount_percent': 0, 'advertisement_type': 'contract', 'phone_order': True, 'dine_in': False, 'advertisement_rank': 1, 'thumbnail_message': '', 'additional_discount_pickup_per_menu': 0, 'open_time_description': '11:00 - 22:30', 'keywords': '미스터피자-성수점 프리미엄L [행사]하프앤하프L 음료&소스 갈릭디핑소스 프리미엄L [행사]씨푸드빠에야앤스테이크L 프리미엄L [행사]쉬림프골드L 파스타&라이스 오븐치즈미트스파게티 음료&소스 핫소스 프리미엄L [행사]포테이토골드L 프리미엄L [행사]새우천왕L 프리미엄L [행사]치우천왕L 클래식L 페퍼로니L', 'new_rating': 0.9795454867749339, 'app_order': True, 'premium': {}, 'lng': 127.0595077, 'list_pos': 2, 'id': 245962, 'can_review': 0, 'estimated_delivery_time': '50~60분', 'additional_discount_pickup_only_for_user': False, 'review_count': 72, 'owner_reply_count': 15, 'section': 'hotdeal', 'loyal_score': 14.0657744091185, 'thumbnail_url': 'https://rev-static.yogiyo.co.kr/franchise/thumbnail/20181004182850586411_%EC%A0%9C%ED%9C%B4FR_20181002_%EB%AF%B8%EC%8A%A4%ED%84%B0%ED%94%BC%EC%9E%90_%EB%B0%B0%EA%B2%BD%ED%99%94%EB%A9%B4_1080x640.jpg', 'reachable': True, 'additional_discount': 0, 'new': False, 'minimum_pickup_minutes': 0, 'has_loyalty_support': True, 'begin': '11:00:00', 'description': '', 'tags': ['CESCO'], 'address': '서울 성동구 성수동2가 230-9 우신빌딩1층', 'lat': 37.5374931, 'end': '22:30:00', 'slug': '미스터피자-성수점', 'review_avg': 4.63888888888889, 'discount_from': None, 'top28': False, 'url': '', 'foodfly_restaurant_id': None, 'payment_methods': ['creditcard', 'online'], 'takeout': False}, {'rating': 200020.47558689, 'subtitle': '', 'additional_discount_currently_active': True, 'free_delivery_threshold': 0, 'delivery_fee_explanation': '배달 요금 2000원, 최소 주문 금액 13500원', 'is_available_delivery': True, 'threshold': 4000, 'adv_distance': None, 'open': True, 'discount_until': None, 'central_billing': False, 'city': '서울', 'review_reply_count': 0, 'sms_bonus': False, 'franchise_id': 360, 'phone_downlisted': False, 'franchise_name': '(주)에스피씨클라우드 / 배스킨라빈스', 'review_image_count': 0, 'top100_restaurant': False, 'is_available_pickup': True, 'additional_discount_per_menu': 4000, 'delivery_fee': 2000, 'additional_discount_pickup': 2500, 'phone': '0000000000', 'additional_discount_only_for_user': True, 'has_terminal': False, 'categories': ['카페디저트', '예약픽업'], 'min_order_amount': 13500, 'distance': 0.29001069396564627, 'logo_url': '/media/franchise_logos/배스킨라빈스_20161130_Franchise이미지약정서_crop_200x200.jpg', 'except_cash': True, 'name': '배스킨라빈스-성수역점', 'section_pos': 3, 'relay_methods': ['email', 'relayo_relay'], 'one_dish': 0, 'discount_percent': 0, 'advertisement_type': 'contract', 'phone_order': False, 'dine_in': False, 'advertisement_rank': 1, 'thumbnail_message': '', 'additional_discount_pickup_per_menu': 0, 'open_time_description': '11:00 - 22:00', 'keywords': '배스킨라빈스-성수역점 핸드팩세트 쿼터 핸드팩세트 패밀리 핸드팩세트 파인트 디저트세트 아이스초코파이스트로베리 디저트세트 아이스마카롱체리쥬빌레 디저트세트 스노우모찌（그린티） 핸드팩세트 하프갤런 아이스크림케이크 더블초콜릿블러섬 기프트세트 버라이어티팩 디저트세트 아이스초코파이마시멜로&초콜릿', 'new_rating': 0.7307356225025763, 'app_order': True, 'premium': {}, 'lng': 127.054410516279, 'list_pos': 3, 'id': 248980, 'can_review': 0, 'estimated_delivery_time': '70~80분', 'additional_discount_pickup_only_for_user': True, 'review_count': 7, 'owner_reply_count': 0, 'section': 'hotdeal', 'loyal_score': 4.71844403239264, 'thumbnail_url': 'https://rev-static.yogiyo.co.kr/franchise/thumbnail/20181126122614963808_%EC%A0%9C%ED%9C%B4FR_20181126_%EB%B0%B0%EC%8A%A4%ED%82%A8%EB%9D%BC%EB%B9%88%EC%8A%A4_%EB%B0%B0%EA%B2%BD%EC%82%AC%EC%A7%84_1080x640.jpg', 'reachable': True, 'additional_discount': 0, 'new': False, 'minimum_pickup_minutes': 1, 'has_loyalty_support': True, 'begin': '11:00:00', 'description': '', 'tags': ['relayo'], 'address': '서울 성동구 성수동2가 300-64 이마트3층', 'lat': 37.5456016568289, 'end': '22:00:00', 'slug': '배스킨라빈스-성수역점', 'review_avg': 4.42857142857143, 'discount_from': None, 'top28': False, 'url': '', 'foodfly_restaurant_id': None, 'payment_methods': ['online'], 'takeout': False}, {'rating': 200021.554069162, 'subtitle': '', 'additional_discount_currently_active': True, 'free_delivery_threshold': 0, 'delivery_fee_explanation': '배달 요금 1000원, 최소 주문 금액 15000원', 'is_available_delivery': True, 'threshold': 8000, 'adv_distance': None, 'open': True, 'discount_until': None, 'central_billing': False, 'city': '서울', 'review_reply_count': 29, 'sms_bonus': False, 'franchise_id': 561, 'phone_downlisted': False, 'franchise_name': '씨제이푸드빌(주) / 빕스', 'review_image_count': 12, 'top100_restaurant': False, 'is_available_pickup': False, 'additional_discount_per_menu': 0, 'delivery_fee': 1000, 'additional_discount_pickup': 0, 'phone': '0000000000', 'additional_discount_only_for_user': True, 'has_terminal': False, 'categories': ['한식', '피자양식', '프랜차이즈'], 'min_order_amount': 15000, 'distance': 1.7781322063763154, 'logo_url': '/media/franchise_logos/빕스_20180814_Franchise이미지약정서_crop_200x200_2dAt7pS.jpg', 'except_cash': True, 'name': '빕스-어린이대공원점', 'section_pos': 4, 'relay_methods': ['email', 'sms_relay', 'relayo_relay'], 'one_dish': 0, 'discount_percent': 0, 'advertisement_type': 'contract', 'phone_order': False, 'dine_in': False, 'advertisement_rank': 1, 'thumbnail_message': '', 'additional_discount_pickup_per_menu': 0, 'open_time_description': '11:30 - 20:00', 'keywords': '빕스-어린이대공원점 DiningBox 채끝등심스테이크 PartyBox 파티박스 DiningBox DiningBoxset（샐러드&치즈케이크） DiningBox 슈림프잠발라야라이스 음료 펩시콜라（355ml） DiningBox 갈릭바비큐폭립 DiningBox 슈림프크림파스타 DiningBox 볼로네제파스타 DiningBox 후라이드치킨&감자튀김 음료 칠성사이다（355ml）', 'new_rating': 0.4985363252076569, 'app_order': True, 'premium': {}, 'lng': 127.076323840035, 'list_pos': 4, 'id': 287577, 'can_review': 0, 'estimated_delivery_time': '20~30분', 'additional_discount_pickup_only_for_user': False, 'review_count': 29, 'owner_reply_count': 29, 'section': 'hotdeal', 'loyal_score': 6.354069162073, 'thumbnail_url': 'https://rev-static.yogiyo.co.kr/franchise/thumbnail/20181005100737212246_%EC%A0%9C%ED%9C%B4FR_20181002_%EB%B9%95%EC%8A%A4_%EB%B0%B0%EA%B2%BD%ED%99%94%EB%A9%B4_1080x640.jpg', 'reachable': True, 'additional_discount': 2000, 'new': False, 'minimum_pickup_minutes': 0, 'has_loyalty_support': True, 'begin': '11:30:00', 'description': '', 'tags': ['relayo'], 'address': '서울 광진구 군자동 270 2층', 'lat': 37.5517393592875, 'end': '20:00:00', 'slug': '빕스-어린이대공원점', 'review_avg': 4.0, 'discount_from': None, 'top28': False, 'url': '', 'foodfly_restaurant_id': None, 'payment_methods': ['online'], 'takeout': False}, {'rating': 200020.193204548, 'subtitle': '', 'additional_discount_currently_active': True, 'free_delivery_threshold': 0, 'delivery_fee_explanation': '최소 주문 금액 20000원 이상', 'is_available_delivery': True, 'threshold': 10000, 'adv_distance': None, 'open': True, 'discount_until': None, 'central_billing': False, 'city': '서울', 'review_reply_count': 0, 'sms_bonus': False, 'franchise_id': 41, 'phone_downlisted': False, 'franchise_name': '한국파파존스(주) / 파파존스', 'review_image_count': 21, 'top100_restaurant': False, 'is_available_pickup': False, 'additional_discount_per_menu': 0, 'delivery_fee': 0, 'additional_discount_pickup': 0, 'phone': '050352597617', 'additional_discount_only_for_user': True, 'has_terminal': True, 'categories': ['프랜차이즈', '피자양식'], 'min_order_amount': 20000, 'distance': 1.1652185462810936, 'logo_url': '/media/franchise_logos/파파존스_20170313_Franchise이미지약정서_crop_200x200.jpg', 'except_cash': False, 'name': '파파존스-성수점', 'section_pos': 5, 'relay_methods': ['email', 'box_helicom'], 'one_dish': 0, 'discount_percent': 0, 'advertisement_type': 'contract', 'phone_order': True, 'dine_in': False, 'advertisement_rank': 1, 'thumbnail_message': '', 'additional_discount_pickup_per_menu': 0, 'open_time_description': '11:00 - 22:00', 'keywords': '파파존스-성수점 음료 코카콜라1.25L 오리지널크러스트라지（L） 수퍼파파스오리지널크러스트L 오리지널크러스트레귤러（R） 수퍼파파스오리지널크러스트R 사이드 파파스파스타（미트） 소스 갈릭소스 오리지널크러스트레귤러（R） 올미트오리지널크러스트R 사이드 파파스윙 오리지널크러스트라지（L） 존스페이버릿오리지널크러스트L 소스 핫소스 음료 코카콜라500mL', 'new_rating': 0.42337412784017764, 'app_order': True, 'premium': {}, 'lng': 127.0447483, 'list_pos': 5, 'id': 237882, 'can_review': 0, 'estimated_delivery_time': '30~40분', 'additional_discount_pickup_only_for_user': False, 'review_count': 118, 'owner_reply_count': 0, 'section': 'hotdeal', 'loyal_score': 1.41044592740991, 'thumbnail_url': 'https://rev-static.yogiyo.co.kr/franchise/thumbnail/20181004181758646331_%EC%A0%9C%ED%9C%B4FR_20181002_%ED%8C%8C%ED%8C%8C%EC%A1%B4%EC%8A%A4_%EB%B0%B0%EA%B2%BD%ED%99%94%EB%A9%B4_1080x640.jpg', 'reachable': True, 'additional_discount': 3000, 'new': False, 'minimum_pickup_minutes': 0, 'has_loyalty_support': True, 'begin': '11:00:00', 'description': '', 'tags': ['CESCO'], 'address': '서울 성동구 성수동1가 656-297 2층 202호', 'lat': 37.5476884, 'end': '22:00:00', 'slug': '파파존스-성수점', 'review_avg': 4.44067796610169, 'discount_from': None, 'top28': False, 'url': '', 'foodfly_restaurant_id': None, 'payment_methods': ['creditcard', 'online'], 'takeout': False}, {'rating': 200022.448025009, 'subtitle': '', 'additional_discount_currently_active': True, 'free_delivery_threshold': 0, 'delivery_fee_explanation': '배달 요금 2000원, 최소 주문 금액 15000원', 'is_available_delivery': True, 'threshold': 10000, 'adv_distance': None, 'open': True, 'discount_until': None, 'central_billing': False, 'city': '서울', 'review_reply_count': 211, 'sms_bonus': False, 'franchise_id': 43, 'phone_downlisted': False, 'franchise_name': '(주)나도람F.C / 투존치킨', 'review_image_count': 54, 'top100_restaurant': False, 'is_available_pickup': False, 'additional_discount_per_menu': 0, 'delivery_fee': 2000, 'additional_discount_pickup': 0, 'phone': '050712924504', 'additional_discount_only_for_user': True, 'has_terminal': False, 'categories': ['치킨', '프랜차이즈'], 'min_order_amount': 15000, 'distance': 2.378190796673645, 'logo_url': '/media/franchise_logos/투존치킨_20160315_Franchise이미지약정서_crop_200x200.jpg', 'except_cash': False, 'name': '2마리3맛투존치킨-자양점', 'section_pos': 6, 'relay_methods': ['email', 'sms_relay', 'relayo_relay'], 'one_dish': 0, 'discount_percent': 0, 'advertisement_type': 'contract', 'phone_order': True, 'dine_in': False, 'advertisement_rank': 1, 'thumbnail_message': '', 'additional_discount_pickup_per_menu': 0, 'open_time_description': '12:00 - 23:30', 'keywords': '2마리3맛투존치킨-자양점 스페셜치킨세트 어니언파닭 스페셜치킨세트 순살판타스틱 스페셜치킨세트 투펀치반반반（두마리） 스페셜치킨세트 눈코찡치킨 한마리치킨 한마리반반반（한마리） 치빵버거세트 어니언파닭（치빵버거） 사이드메뉴 치즈듬뿍떡볶이 치빵버거세트 불고기킹（치빵버거） 사이드메뉴 치빵버거＋칠리＋딸기잼 사이드메뉴 케이준양념감자', 'new_rating': 0.3944733172192566, 'app_order': True, 'premium': {}, 'lng': 127.0763866, 'list_pos': 6, 'id': 263693, 'can_review': 0, 'estimated_delivery_time': '40~50분', 'additional_discount_pickup_only_for_user': False, 'review_count': 211, 'owner_reply_count': 211, 'section': 'hotdeal', 'loyal_score': 6.75278691384964, 'thumbnail_url': 'https://rev-static.yogiyo.co.kr/franchise/thumbnail/20180919183346997130_%EC%A0%9C%ED%9C%B4FR_20180918_%ED%88%AC%EC%A1%B4%EC%B9%98%ED%82%A8_%EB%8C%80%ED%91%9C%EC%9D%B4%EB%AF%B8%EC%A7%80_1080x640.png', 'reachable': True, 'additional_discount': 2000, 'new': False, 'minimum_pickup_minutes': 0, 'has_loyalty_support': True, 'begin': '12:00:00', 'description': '', 'tags': ['relayo'], 'address': '서울 광진구 자양동 593 1층 102호', 'lat': 37.530177, 'end': '23:30:00', 'slug': '투존치킨-자양점6AZKCK', 'review_avg': 4.38388625592417, 'discount_from': None, 'top28': False, 'url': '', 'foodfly_restaurant_id': None, 'payment_methods': ['creditcard', 'online'], 'takeout': False}, {'rating': 200007.6, 'subtitle': '', 'additional_discount_currently_active': True, 'free_delivery_threshold': 0, 'delivery_fee_explanation': '배달 요금 4180원, 최소 주문 금액 8000원', 'is_available_delivery': True, 'threshold': 4000, 'adv_distance': None, 'open': True, 'discount_until': None, 'central_billing': False, 'city': '서울', 'review_reply_count': 0, 'sms_bonus': False, 'franchise_id': 563, 'phone_downlisted': False, 'franchise_name': '(주)이디야 / 이디야커피', 'review_image_count': 2, 'top100_restaurant': False, 'is_available_pickup': False, 'additional_discount_per_menu': 0, 'delivery_fee': 4180, 'additional_discount_pickup': 0, 'phone': '0000000000', 'additional_discount_only_for_user': True, 'has_terminal': False, 'categories': ['프랜차이즈', '카페디저트'], 'min_order_amount': 8000, 'distance': 1.1349803540478554, 'logo_url': '/media/franchise_logos/이디야커피_20180724_Franchise이미지약정서_crop_200x200_oIG85LC.jpg', 'except_cash': True, 'name': '이디야커피-서울숲역점', 'section_pos': 7, 'relay_methods': ['email', 'relayo_relay'], 'one_dish': 0, 'discount_percent': 0, 'advertisement_type': 'contract', 'phone_order': False, 'dine_in': False, 'advertisement_rank': 1, 'thumbnail_message': '', 'additional_discount_pickup_per_menu': 0, 'open_time_description': '12:00 - 21:00', 'keywords': '이디야커피-서울숲역점 베이커리 프레즐 베이커리 허니카라멜브레드 베이커리 플레인치즈스틱케익 베이커리 데블스초코케이크 커피 ExtraICED카페아메리카노 커피 카페아메리카노 베이커리 초코칩머핀 베이커리 수플레치즈케이크 베이커리 이너츠 커피 ExtraICED카라멜마끼아또', 'new_rating': 0.37300392919042896, 'app_order': True, 'premium': {}, 'lng': 127.044860354791, 'list_pos': 7, 'id': 286558, 'can_review': 0, 'estimated_delivery_time': '50~60분', 'additional_discount_pickup_only_for_user': False, 'review_count': 3, 'owner_reply_count': 0, 'section': 'hotdeal', 'loyal_score': 0.0, 'thumbnail_url': 'https://rev-static.yogiyo.co.kr/franchise/thumbnail/20181005100809031877_%EC%A0%9C%ED%9C%B4FR_20181002_%EC%9D%B4%EB%94%94%EC%95%BC%EC%BB%A4%ED%94%BC_%EB%B0%B0%EA%B2%BD%ED%99%94%EB%A9%B4_1080x640.jpg', 'reachable': True, 'additional_discount': 4000, 'new': False, 'minimum_pickup_minutes': 0, 'has_loyalty_support': True, 'begin': '12:00:00', 'description': '', 'tags': ['CESCO', 'relayo'], 'address': '서울 성동구 성수동1가 656-1123', 'lat': 37.5463422397236, 'end': '21:00:00', 'slug': '이디야커피-서울숲역점', 'review_avg': 4.66666666666667, 'discount_from': None, 'top28': False, 'url': '', 'foodfly_restaurant_id': None, 'payment_methods': ['online'], 'takeout': False}, {'rating': 200008.331369858, 'subtitle': '', 'additional_discount_currently_active': True, 'free_delivery_threshold': 0, 'delivery_fee_explanation': '최소 주문 금액 15000원 이상', 'is_available_delivery': True, 'threshold': 10000, 'adv_distance': None, 'open': True, 'discount_until': None, 'central_billing': False, 'city': '서울', 'review_reply_count': 0, 'sms_bonus': False, 'franchise_id': 9, 'phone_downlisted': False, 'franchise_name': '(주)농협목우촌 / 또래오래', 'review_image_count': 4, 'top100_restaurant': False, 'is_available_pickup': False, 'additional_discount_per_menu': 0, 'delivery_fee': 0, 'additional_discount_pickup': 0, 'phone': '050712955692', 'additional_discount_only_for_user': True, 'has_terminal': False, 'categories': ['치킨', '프랜차이즈'], 'min_order_amount': 15000, 'distance': 0.23404810874183507, 'logo_url': '/media/franchise_logos/또래오래_20151126_Franchise이미지약정서_crop_200x200_89SjZAD.jpg', 'except_cash': False, 'name': '또래오래-성동성수역점', 'section_pos': 8, 'relay_methods': ['email', 'sms_relay'], 'one_dish': 0, 'discount_percent': 0, 'advertisement_type': 'contract', 'phone_order': True, 'dine_in': False, 'advertisement_rank': 1, 'thumbnail_message': '', 'additional_discount_pickup_per_menu': 0, 'open_time_description': '15:00 - 23:59', 'keywords': '또래오래-성동성수역점 반반메뉴 갈릭반핫양념반 반반메뉴 후라이드반양념반 반반메뉴 갈릭반양념반 치킨메뉴 오곡후라이드치킨 치킨메뉴 순살치킨（양념） 치킨메뉴 맛강정 치킨메뉴 순살치킨（후라이드） 치킨메뉴 갈릭플러스치킨 치킨메뉴 목우촌닭다리치킨（후라이드） 치킨메뉴 목우촌닭다리치킨（양념）', 'new_rating': 0.35844517259098335, 'app_order': True, 'premium': {}, 'lng': 127.0550942422, 'list_pos': 8, 'id': 297245, 'can_review': 0, 'estimated_delivery_time': '15~25분', 'additional_discount_pickup_only_for_user': False, 'review_count': 12, 'owner_reply_count': 0, 'section': 'hotdeal', 'loyal_score': -4.86863014151624, 'thumbnail_url': 'https://rev-static.yogiyo.co.kr/franchise/thumbnail/20181026121750512799_%EC%A0%9C%ED%9C%B4FR_20181002_%EB%98%90%EB%9E%98%EC%98%A4%EB%9E%98_%EB%B0%B0%EA%B2%BD%ED%99%94%EB%A9%B4_1080x640.jpg', 'reachable': True, 'additional_discount': 2000, 'new': False, 'minimum_pickup_minutes': 0, 'has_loyalty_support': True, 'begin': '15:00:00', 'description': '', 'tags': [], 'address': '서울 성동구 성수동2가 300-5 남영빌딩 1층', 'lat': 37.5451976360753, 'end': '23:59:00', 'slug': '또래오래-성동성수역점', 'review_avg': 4.0, 'discount_from': None, 'top28': False, 'url': '', 'foodfly_restaurant_id': None, 'payment_methods': ['creditcard', 'online'], 'takeout': False}, {'rating': 200000.741777522, 'subtitle': '', 'additional_discount_currently_active': True, 'free_delivery_threshold': 0, 'delivery_fee_explanation': '배달 요금 2000원, 최소 주문 금액 8000원', 'is_available_delivery': True, 'threshold': 4000, 'adv_distance': None, 'open': True, 'discount_until': None, 'central_billing': False, 'city': '서울', 'review_reply_count': 0, 'sms_bonus': False, 'franchise_id': 475, 'phone_downlisted': False, 'franchise_name': '(주)에스피씨클라우드 / 파리바게뜨', 'review_image_count': 0, 'top100_restaurant': False, 'is_available_pickup': True, 'additional_discount_per_menu': 4000, 'delivery_fee': 2000, 'additional_discount_pickup': 5000, 'phone': '0000000000', 'additional_discount_only_for_user': True, 'has_terminal': False, 'categories': ['카페디저트', '프랜차이즈', '예약픽업'], 'min_order_amount': 8000, 'distance': 0.9677611480860651, 'logo_url': '/media/franchise_logos/파리바게뜨_20180712_Franchise이미지약정서_crop_200x200_s6Zm07l.jpg', 'except_cash': True, 'name': '파리바게뜨-뚝도시장점', 'section_pos': 9, 'relay_methods': ['email', 'relayo_relay'], 'one_dish': 0, 'discount_percent': 0, 'advertisement_type': 'contract', 'phone_order': False, 'dine_in': False, 'advertisement_rank': 1, 'thumbnail_message': '', 'additional_discount_pickup_per_menu': 0, 'open_time_description': '10:00 - 21:00', 'keywords': '파리바게뜨-뚝도시장점 빵／식빵 토종효모정통우유식빵 롤케익／카스테라 실키롤케익（20%할인） 케이크 초코반딸기반케이크（800원할인） 빵／식빵 땅콩크림빵 케이크 치즈케이크（800원할인） 롤케익／카스테라 명가명품우리벌꿀카스텔라（20%할인） 음료／아이스 아침&초코우유（200ml） 빵／식빵 굿모닝롤 음료／아이스 아침&딸기우유（200ml） 빵／식빵 꿀토스트플러스', 'new_rating': 0.35611887126040254, 'app_order': True, 'premium': {}, 'lng': 127.053073735923, 'list_pos': 9, 'id': 289599, 'can_review': 0, 'estimated_delivery_time': '70~80분', 'additional_discount_pickup_only_for_user': True, 'review_count': 0, 'owner_reply_count': 0, 'section': 'hotdeal', 'loyal_score': -1.25822247805961, 'thumbnail_url': 'https://rev-static.yogiyo.co.kr/franchise/thumbnail/20181126105107804926_%EC%A0%9C%ED%9C%B4FR_20181123_%ED%8C%8C%EB%A6%AC%EB%B0%94%EA%B2%8C%EB%9C%A8_%EB%B0%B0%EA%B2%BD%EC%82%AC%EC%A7%84_1080x640.png', 'reachable': True, 'additional_discount': 0, 'new': False, 'minimum_pickup_minutes': 1, 'has_loyalty_support': True, 'begin': '10:00:00', 'description': '', 'tags': ['relayo'], 'address': '서울 성동구 성수동2가 507-1', 'lat': 37.5377075111837, 'end': '21:00:00', 'slug': '파리바게뜨-뚝도시장점', 'review_avg': 0.0, 'discount_from': None, 'top28': False, 'url': '', 'foodfly_restaurant_id': None, 'payment_methods': ['online'], 'takeout': False}, {'rating': 200013.133985017, 'subtitle': '', 'additional_discount_currently_active': True, 'free_delivery_threshold': 0, 'delivery_fee_explanation': '최소 주문 금액 15900원 이상', 'is_available_delivery': True, 'threshold': 10000, 'adv_distance': None, 'open': True, 'discount_until': None, 'central_billing': False, 'city': '서울', 'review_reply_count': 49, 'sms_bonus': False, 'franchise_id': 85, 'phone_downlisted': False, 'franchise_name': '한국피자헛유한회사 / 피자헛', 'review_image_count': 43, 'top100_restaurant': False, 'is_available_pickup': False, 'additional_discount_per_menu': 13000, 'delivery_fee': 0, 'additional_discount_pickup': 0, 'phone': '050352588449', 'additional_discount_only_for_user': True, 'has_terminal': False, 'categories': ['프랜차이즈', '피자양식'], 'min_order_amount': 15900, 'distance': 1.18753278373657, 'logo_url': '/media/franchise_logos/피자헛_20170612_Franchise이미지약정서_crop_200x200.jpg', 'except_cash': False, 'name': '피자헛-뚝섬2호점', 'section_pos': 10, 'relay_methods': ['email', 'relayo_relay'], 'one_dish': 0, 'discount_percent': 0, 'advertisement_type': 'contract', 'phone_order': True, 'dine_in': False, 'advertisement_rank': 1, 'thumbnail_message': '', 'additional_discount_pickup_per_menu': 0, 'open_time_description': '11:00 - 22:30', 'keywords': '피자헛-뚝섬2호점 사이드메뉴 치즈크러스트디핑소스 더블박스 더블박스 프리미엄피자-더블퐁듀（30%할인） 더블퐁듀쉬림프（30%할인가）L 프리미엄피자-더블퐁듀（30%할인） 더블퐁듀쉬림프（30%할인가）M 사이드메뉴 핫소스 프리미엄피자-치즈크러스트（30%할인） 수퍼슈프림L（30%할인가） 음료 콜라（펩시）1.25L 사이드메뉴 바른생피클L 사이드메뉴 리치치즈파스타 음료 사이다（칠성）1.25L', 'new_rating': 0.2570365173983148, 'app_order': True, 'premium': {}, 'lng': 127.0443415, 'list_pos': 10, 'id': 229800, 'can_review': 0, 'estimated_delivery_time': '40~50분', 'additional_discount_pickup_only_for_user': False, 'review_count': 198, 'owner_reply_count': 49, 'section': 'hotdeal', 'loyal_score': -2.63642314635928, 'thumbnail_url': 'https://rev-static.yogiyo.co.kr/franchise/thumbnail/20181005121914935836_%EC%A0%9C%ED%9C%B4FR_20181004_%ED%94%BC%EC%9E%90%ED%97%9B_%EB%B0%B0%EA%B2%BD%ED%99%94%EB%A9%B4_1080x640.jpg', 'reachable': True, 'additional_discount': 0, 'new': False, 'minimum_pickup_minutes': 0, 'has_loyalty_support': True, 'begin': '11:00:00', 'description': '', 'tags': ['CESCO', 'relayo'], 'address': '서울 성동구 성수동1가 656-940', 'lat': 37.5469705, 'end': '22:30:00', 'slug': '피자헛-뚝섬2호점', 'review_avg': 4.44444444444444, 'discount_from': None, 'top28': False, 'url': '', 'foodfly_restaurant_id': None, 'payment_methods': ['creditcard', 'online'], 'takeout': False}, {'rating': 200054.140218336, 'subtitle': '', 'additional_discount_currently_active': False, 'free_delivery_threshold': 0, 'delivery_fee_explanation': '최소 주문 금액 5000원 이상', 'is_available_delivery': True, 'threshold': 5000, 'adv_distance': None, 'open': True, 'discount_until': None, 'central_billing': False, 'city': '서울', 'review_reply_count': 0, 'sms_bonus': False, 'franchise_id': None, 'phone_downlisted': False, 'franchise_name': None, 'review_image_count': 409, 'top100_restaurant': False, 'is_available_pickup': False, 'additional_discount_per_menu': 0, 'delivery_fee': 0, 'additional_discount_pickup': 0, 'phone': '050352547246', 'additional_discount_only_for_user': False, 'has_terminal': True, 'categories': ['중식', '1인분주문', '야식'], 'min_order_amount': 5000, 'distance': 0.9452468259781885, 'logo_url': '/media/restaurant_logos/해물짬뽕01_20120524_FoodAD_crop_11.jpg', 'except_cash': False, 'name': '청하루', 'section_pos': 1, 'owner_reply_count': 0, 'one_dish': 1, 'discount_percent': 0, 'advertisement_type': 'contract', 'phone_order': True, 'dine_in': False, 'advertisement_rank': 1, 'thumbnail_message': '', 'additional_discount_pickup_per_menu': 0, 'open_time_description': '09:00 - 08:59', 'keywords': '청하루 면류 짜장면 한그릇에두가지맛 탕볶밥 면류 간짜장 한그릇에두가지맛 탕짜면 면류 짬뽕 밥류 볶음밥 미니세트 ASet（탕수육＋짜장） 한그릇에두가지맛 탕짬면 알뜰세트메뉴 탕수육＋짜장1＋짬뽕1 면류 삼선짬뽕', 'new_rating': 1.8406532649669143, 'app_order': True, 'premium': {}, 'lng': 127.048282034565, 'list_pos': 11, 'id': 292, 'can_review': 0, 'estimated_delivery_time': '35~45분', 'additional_discount_pickup_only_for_user': False, 'review_count': 2790, 'relay_methods': ['email', 'box_helicom', 'sms_relay'], 'section': 'contract', 'loyal_score': 35.7425657540638, 'thumbnail_url': '', 'reachable': True, 'additional_discount': 0, 'new': False, 'minimum_pickup_minutes': 0, 'has_loyalty_support': True, 'begin': '09:00:00', 'description': '', 'tags': ['excellent'], 'address': '서울 성동구 성수동1가 656-98', 'lat': 37.5415377957507, 'end': '08:59:00', 'slug': '청하루', 'review_avg': 4.15017921146953, 'discount_from': None, 'top28': False, 'url': '', 'foodfly_restaurant_id': None, 'payment_methods': ['creditcard', 'online'], 'takeout': False}, {'rating': 200047.010877891, 'subtitle': '', 'additional_discount_currently_active': False, 'free_delivery_threshold': 0, 'delivery_fee_explanation': '최소 주문 금액 10000원 이상', 'is_available_delivery': True, 'threshold': 10000, 'adv_distance': None, 'open': True, 'discount_until': None, 'central_billing': False, 'city': '서울', 'review_reply_count': 0, 'sms_bonus': False, 'franchise_id': 75, 'phone_downlisted': False, 'franchise_name': '(주)비케이알 / 버거킹', 'review_image_count': 121, 'top100_restaurant': False, 'is_available_pickup': False, 'additional_discount_per_menu': 0, 'delivery_fee': 0, 'additional_discount_pickup': 0, 'phone': '0000000000', 'additional_discount_only_for_user': False, 'has_terminal': False, 'categories': ['피자양식', '프랜차이즈', '1인분주문'], 'min_order_amount': 10000, 'distance': 1.0836749379860864, 'logo_url': '/media/franchise_logos/버거킹_20170629_Franchise이미지약정서_crop_200x200.jpg', 'except_cash': False, 'name': '버거킹-건대화양점', 'section_pos': 2, 'owner_reply_count': 0, 'one_dish': 1, 'discount_percent': 0, 'advertisement_type': 'contract', 'phone_order': False, 'dine_in': False, 'advertisement_rank': 1, 'thumbnail_message': '', 'additional_discount_pickup_per_menu': 0, 'open_time_description': '10:00 - 00:00', 'keywords': '버거킹-건대화양점 버거세트 콰트로치즈와퍼세트 버거세트 BLT뉴올리언스치킨버거세트 버거세트 와퍼세트 버거세트 통새우와퍼세트 버거세트 통새우스테이크버거세트 사이드 텐더킹2조각 사이드 너겟킹4조각 스페셜오퍼 몬스터X세트 사이드 너겟킹6조각 버거세트 뉴올리언스치킨버거세트', 'new_rating': 1.715592716669023, 'app_order': True, 'premium': {}, 'lng': 127.068494238588, 'list_pos': 12, 'id': 254883, 'can_review': 0, 'estimated_delivery_time': '45~55분', 'additional_discount_pickup_only_for_user': False, 'review_count': 935, 'relay_methods': ['email', 'relayo_relay'], 'section': 'contract', 'loyal_score': 33.308192606656, 'thumbnail_url': 'https://rev-static.yogiyo.co.kr/franchise/thumbnail/20180919182822688999_%EC%A0%9C%ED%9C%B4FR_20180918_%EB%B2%84%EA%B1%B0%ED%82%B9_%EB%8C%80%ED%91%9C%EC%9D%B4%EB%AF%B8%EC%A7%80_1080x640.jpg', 'reachable': True, 'additional_discount': 0, 'new': False, 'minimum_pickup_minutes': 0, 'has_loyalty_support': True, 'begin': '10:00:00', 'description': '', 'tags': ['relayo'], 'address': '서울 광진구 화양동 7-44 단산화빌딩', 'lat': 37.5409386584498, 'end': '00:00:00', 'slug': '버거킹-건대화양점', 'review_avg': 4.38823529411765, 'discount_from': None, 'top28': False, 'url': '', 'foodfly_restaurant_id': None, 'payment_methods': ['creditcard', 'online'], 'takeout': False}, {'rating': 200048.975818941, 'subtitle': '', 'additional_discount_currently_active': False, 'free_delivery_threshold': 0, 'delivery_fee_explanation': '최소 주문 금액 10000원 이상', 'is_available_delivery': True, 'threshold': 5000, 'adv_distance': None, 'open': True, 'discount_until': None, 'central_billing': False, 'city': '서울', 'review_reply_count': 0, 'sms_bonus': False, 'franchise_id': None, 'phone_downlisted': False, 'franchise_name': None, 'review_image_count': 184, 'top100_restaurant': False, 'is_available_pickup': False, 'additional_discount_per_menu': 0, 'delivery_fee': 0, 'additional_discount_pickup': 0, 'phone': '050352563213', 'additional_discount_only_for_user': False, 'has_terminal': True, 'categories': ['한식', '중식'], 'min_order_amount': 10000, 'distance': 0.5853395760134703, 'logo_url': '/media/restaurant_logos/짜장면01_20120524_FoodAD_crop_200x200_15.jpg', 'except_cash': False, 'name': '동강', 'section_pos': 3, 'owner_reply_count': 0, 'one_dish': 0, 'discount_percent': 0, 'advertisement_type': 'contract', 'phone_order': True, 'dine_in': False, 'advertisement_rank': 1, 'thumbnail_message': '', 'additional_discount_pickup_per_menu': 0, 'open_time_description': '11:00 - 20:40', 'keywords': '동강 알뜰세트메뉴 1세트（탕수육＋짜장2） 싱글세트 싱글세트1（탕수육＋짜장） 면류 짜장면 면류 간짜장 면류 짬뽕 만두류 군만두 요리부 탕수육 사이드메뉴 콜라1.25L 싱글세트 싱글세트2（탕수육＋짬뽕） 밥류 볶음밥', 'new_rating': 1.703108063327946, 'app_order': True, 'premium': {}, 'lng': 127.0638631, 'list_pos': 13, 'id': 28628, 'can_review': 0, 'estimated_delivery_time': '20~30분', 'additional_discount_pickup_only_for_user': False, 'review_count': 1600, 'relay_methods': ['email', 'box_helicom'], 'section': 'contract', 'loyal_score': 30.504399463266, 'thumbnail_url': 'https://rev-static.yogiyo.co.kr/restaurants/thumbnail/stock_img/%EC%A4%91%EC%8B%9D/%EB%A9%B4%EB%A5%98/%EC%8A%A4%ED%83%81_20181015_foodad_fad02062-left_%EC%A7%9C%EC%9E%A5%EB%A9%B401_1080x640.jpg', 'reachable': True, 'additional_discount': 0, 'new': False, 'minimum_pickup_minutes': 0, 'has_loyalty_support': True, 'begin': '11:00:00', 'description': '', 'tags': ['excellent'], 'address': '서울 성동구 성수동2가 277-33번지', 'lat': 37.5436425, 'end': '20:40:00', 'slug': '동강', 'review_avg': 4.20875, 'discount_from': None, 'top28': False, 'url': '', 'foodfly_restaurant_id': None, 'payment_methods': ['creditcard', 'online'], 'takeout': False}, {'rating': 200008.0, 'subtitle': '', 'additional_discount_currently_active': False, 'free_delivery_threshold': 22000, 'delivery_fee_explanation': '주문 금액이 22000원 이하일 경우 배달 요금 3000원이 부과됩니다', 'is_available_delivery': True, 'threshold': 8000, 'adv_distance': None, 'open': True, 'discount_until': None, 'central_billing': False, 'city': '서울', 'review_reply_count': 0, 'sms_bonus': False, 'franchise_id': None, 'phone_downlisted': False, 'franchise_name': None, 'review_image_count': 0, 'top100_restaurant': False, 'is_available_pickup': False, 'additional_discount_per_menu': 0, 'delivery_fee': 3000, 'additional_discount_pickup': 0, 'phone': '050712959781', 'additional_discount_only_for_user': False, 'has_terminal': True, 'categories': ['한식', '1인분주문'], 'min_order_amount': 6000, 'distance': 2.1968143055115044, 'logo_url': '/media/restaurant_logos/찜닭02_20131128_FoodAD_crop_200x200_VzvM1RK.jpg', 'except_cash': False, 'name': '혼밥즐기기', 'section_pos': 4, 'relay_methods': ['email', 'box_helicom', 'sms_relay'], 'one_dish': 1, 'discount_percent': 0, 'advertisement_type': 'contract', 'phone_order': True, 'dine_in': False, 'advertisement_rank': 1, 'thumbnail_message': '', 'additional_discount_pickup_per_menu': 0, 'open_time_description': '11:00 - 23:59', 'keywords': '혼밥즐기기 사이드메뉴 고기왕만두6개 사이드메뉴 김치찌개＋밥1＋공기밥 추가선택메뉴 계란찜 사이드메뉴 김치왕만두6개 요일메뉴<화> 화요일메뉴（묵은지닭도리탕＋공기밥1＋만두2개） 요일메뉴<토일> 토일메뉴（묵은지생고기찜＋공기밥1＋만두2개） 요일메뉴<수> 수요일메뉴（안동찜닭＋공기밥1＋만두2개） 추가선택메뉴 콜라500mL 추가선택메뉴 공기밥2개 냉면메뉴 열무물냉면＋만두2개', 'new_rating': 0.16063713889769915, 'app_order': True, 'premium': {}, 'lng': 127.07877749919, 'list_pos': 14, 'id': 301755, 'can_review': 0, 'estimated_delivery_time': '', 'additional_discount_pickup_only_for_user': False, 'review_count': 0, 'owner_reply_count': 0, 'section': 'contract', 'loyal_score': 0.0, 'thumbnail_url': 'https://rev-static.yogiyo.co.kr/restaurants/thumbnail/20181129104232164740_%EC%8A%A4%ED%83%81_20181015_foodad_fad05076-left_%EB%8F%BC%EC%A7%80%EA%B0%88%EB%B9%84%EC%B0%9C01_1080x640.jpg', 'reachable': True, 'additional_discount': 0, 'new': True, 'minimum_pickup_minutes': 0, 'has_loyalty_support': True, 'begin': '11:00:00', 'description': '', 'tags': [], 'address': '서울 광진구 자양동 232-14 1층 103호', 'lat': 37.5350645169436, 'end': '23:59:00', 'slug': '혼밥즐기기', 'review_avg': 0.0, 'discount_from': None, 'top28': False, 'url': '', 'foodfly_restaurant_id': None, 'payment_methods': ['creditcard', 'online'], 'takeout': False}, {'rating': 200039.482267477, 'subtitle': '', 'additional_discount_currently_active': False, 'free_delivery_threshold': 0, 'delivery_fee_explanation': '배달 요금 1000원, 최소 주문 금액 14000원', 'is_available_delivery': True, 'threshold': 10000, 'adv_distance': None, 'open': True, 'discount_until': '2018-12-03T22:14:59.999999', 'central_billing': False, 'city': '서울', 'review_reply_count': 0, 'sms_bonus': False, 'franchise_id': 7, 'phone_downlisted': False, 'franchise_name': '(주)혜인식품 / 네네치킨', 'review_image_count': 64, 'top100_restaurant': False, 'is_available_pickup': False, 'additional_discount_per_menu': 0, 'delivery_fee': 1000, 'additional_discount_pickup': 0, 'phone': '050352537195', 'additional_discount_only_for_user': False, 'has_terminal': False, 'categories': ['프랜차이즈', '치킨'], 'min_order_amount': 14000, 'distance': 0.7343513779005186, 'logo_url': '/media/franchise_logos/네네치킨_20180831_Franchise이미지약정서_crop_200x200.jpg', 'except_cash': False, 'name': '네네치킨-화양점', 'section_pos': 5, 'owner_reply_count': 0, 'one_dish': 0, 'discount_percent': 10, 'advertisement_type': 'contract', 'phone_order': True, 'dine_in': False, 'advertisement_rank': 1, 'thumbnail_message': '', 'additional_discount_pickup_per_menu': 0, 'open_time_description': '11:30 - 23:30', 'keywords': '네네치킨-화양점 반반메뉴 양념반＋후라이드반 후라이드 후라이드（핫） 반반메뉴 스노윙（치즈）반＋양념반 반반메뉴 순살양념반＋순살반 후라이드 후라이드 사이드 콜라1.25L 사이드 네네볼（치즈볼） 반반메뉴 순살스노윙（치즈）반＋순살양념반 사이드 감자튀김 반반메뉴 스노윙（치즈）반＋쇼킹핫반', 'new_rating': 1.4050446273255124, 'app_order': True, 'premium': {}, 'lng': 127.0657391, 'list_pos': 15, 'id': 83302, 'can_review': 0, 'estimated_delivery_time': '35~45분', 'additional_discount_pickup_only_for_user': False, 'review_count': 318, 'relay_methods': ['email', 'sms_relay', 'relayo_relay'], 'section': 'contract', 'loyal_score': 23.7978725726404, 'thumbnail_url': '', 'reachable': True, 'additional_discount': 0, 'new': False, 'minimum_pickup_minutes': 0, 'has_loyalty_support': True, 'begin': '11:30:00', 'description': '', 'tags': ['relayo'], 'address': '서울 광진구 화양동 42-27', 'lat': 37.5438717, 'end': '23:30:00', 'slug': '네네치킨-화양점', 'review_avg': 4.37735849056604, 'discount_from': '2018-12-03T15:00:00', 'top28': False, 'url': '', 'foodfly_restaurant_id': None, 'payment_methods': ['creditcard', 'online'], 'takeout': False}, {'rating': 200054.268324779, 'subtitle': '', 'additional_discount_currently_active': False, 'free_delivery_threshold': 0, 'delivery_fee_explanation': '최소 주문 금액 6000원 이상', 'is_available_delivery': True, 'threshold': 8000, 'adv_distance': None, 'open': True, 'discount_until': None, 'central_billing': False, 'city': '서울', 'review_reply_count': 0, 'sms_bonus': False, 'franchise_id': None, 'phone_downlisted': False, 'franchise_name': None, 'review_image_count': 720, 'top100_restaurant': False, 'is_available_pickup': False, 'additional_discount_per_menu': 0, 'delivery_fee': 0, 'additional_discount_pickup': 0, 'phone': '050712915885', 'additional_discount_only_for_user': False, 'has_terminal': True, 'categories': ['1인분주문', '한식'], 'min_order_amount': 6000, 'distance': 2.2469692561750008, 'logo_url': '/media/restaurant_logos/미스몽도시락-건대점_20170406_가맹로고이미지약정서_crop_200x200.jpg', 'except_cash': False, 'name': '미스몽도시락-건대점', 'section_pos': 6, 'owner_reply_count': 0, 'one_dish': 1, 'discount_percent': 0, 'advertisement_type': 'contract', 'phone_order': True, 'dine_in': False, 'advertisement_rank': 1, 'thumbnail_message': '', 'additional_discount_pickup_per_menu': 0, 'open_time_description': '10:00 - 20:30', 'keywords': '미스몽도시락-건대점 한식메뉴 제육비빔밥 오므라이스세트메뉴 오므라이스세트（수제돈까스＋오므라이스） 한식메뉴 제육볶음 한식메뉴 돼지불백 별미메뉴 라볶이 볶음밥메뉴 김치볶음밥＋계란후라이 한식메뉴 옛날도시락＋계란후라이 양식메뉴 수제돈까스 김밥메뉴 참치김밥 한식메뉴 스팸도시락', 'new_rating': 1.5451839117427002, 'app_order': True, 'premium': {}, 'lng': 127.077122034375, 'list_pos': 16, 'id': 255368, 'can_review': 0, 'estimated_delivery_time': '40~50분', 'additional_discount_pickup_only_for_user': False, 'review_count': 2792, 'relay_methods': ['email', 'box_helicom', 'sms_relay'], 'section': 'contract', 'loyal_score': 34.8644440744425, 'thumbnail_url': '', 'reachable': True, 'additional_discount': 0, 'new': False, 'minimum_pickup_minutes': 0, 'has_loyalty_support': True, 'begin': '10:00:00', 'description': '', 'tags': ['excellent'], 'address': '서울 광진구 자양동 607-18 1층', 'lat': 37.5325168923834, 'end': '20:30:00', 'slug': '미스몽도시락-건대점TFW9UP', 'review_avg': 4.57342406876791, 'discount_from': None, 'top28': False, 'url': '', 'foodfly_restaurant_id': None, 'payment_methods': ['creditcard', 'online'], 'takeout': False}, {'rating': 200038.833185132, 'subtitle': '', 'additional_discount_currently_active': False, 'free_delivery_threshold': 0, 'delivery_fee_explanation': '배달 요금 2000원, 최소 주문 금액 15000원', 'is_available_delivery': True, 'threshold': 8000, 'adv_distance': None, 'open': True, 'discount_until': None, 'central_billing': False, 'city': '서울', 'review_reply_count': 102, 'sms_bonus': True, 'franchise_id': None, 'phone_downlisted': False, 'franchise_name': None, 'review_image_count': 64, 'top100_restaurant': False, 'is_available_pickup': False, 'additional_discount_per_menu': 0, 'delivery_fee': 1000, 'additional_discount_pickup': 0, 'phone': '050712915055', 'additional_discount_only_for_user': False, 'has_terminal': True, 'categories': ['일식돈까스', '프랜차이즈', '야식'], 'min_order_amount': 15000, 'distance': 0.8746570623287911, 'logo_url': '/media/restaurant_logos/육회한연어-건대점_20180403_가맹로고이미지약정서_crop_200x200.jpg', 'except_cash': False, 'name': '육회한연어-건대점', 'section_pos': 7, 'owner_reply_count': 102, 'one_dish': 0, 'discount_percent': 0, 'advertisement_type': 'contract', 'phone_order': True, 'dine_in': False, 'advertisement_rank': 1, 'thumbnail_message': '', 'additional_discount_pickup_per_menu': 0, 'open_time_description': '15:30 - 02:00', 'keywords': '육회한연어-건대점 혼술세트 혼술세트3（육회100g＋연어사시미6pcs＋꼬마육회덮밥or꼬마연어덮밥） 육회메뉴 육회비빔밥 육회메뉴 육회（180g） 혼술세트 혼술세트2（육회100g＋연어사시미6pcs＋연어초밥3pcsor육회초밥3pcs） 초밥&덮밥메뉴 생연어초밥（5pcs） 초밥&덮밥메뉴 날치알주먹밥 혼술세트 혼술세트4（육회100g＋연어사시미6pcs＋한우육사시미8pcs） 초밥&덮밥메뉴 육회초밥（5pcs） 초밥&덮밥메뉴 생연어＋육회초밥（10pcs） 세트메뉴 세트（육회180g＋연어사시미200g）', 'new_rating': 1.4288531356778817, 'app_order': True, 'premium': {}, 'lng': 127.06646284004, 'list_pos': 17, 'id': 254572, 'can_review': 0, 'estimated_delivery_time': '40~50분', 'additional_discount_pickup_only_for_user': False, 'review_count': 140, 'relay_methods': ['email', 'sms_relay'], 'section': 'contract', 'loyal_score': 25.094613703591, 'thumbnail_url': '', 'reachable': True, 'additional_discount': 0, 'new': False, 'minimum_pickup_minutes': 0, 'has_loyalty_support': True, 'begin': '15:30:00', 'description': '', 'tags': [], 'address': '서울 광진구 화양동 49-13 1층', 'lat': 37.5419122370037, 'end': '02:00:00', 'slug': '육회한연어-건대점', 'review_avg': 4.41428571428571, 'discount_from': None, 'top28': False, 'url': '', 'foodfly_restaurant_id': None, 'payment_methods': ['creditcard', 'online'], 'takeout': False}, {'rating': 200045.061544325, 'subtitle': '', 'additional_discount_currently_active': False, 'free_delivery_threshold': 0, 'delivery_fee_explanation': '최소 주문 금액 10000원 이상', 'is_available_delivery': True, 'threshold': 10000, 'adv_distance': None, 'open': True, 'discount_until': None, 'central_billing': False, 'city': '서울', 'review_reply_count': 0, 'sms_bonus': False, 'franchise_id': None, 'phone_downlisted': False, 'franchise_name': None, 'review_image_count': 216, 'top100_restaurant': False, 'is_available_pickup': False, 'additional_discount_per_menu': 0, 'delivery_fee': 0, 'additional_discount_pickup': 0, 'phone': '050352556688', 'additional_discount_only_for_user': False, 'has_terminal': True, 'categories': ['1인분주문', '피자양식'], 'min_order_amount': 10000, 'distance': 1.1354795928063892, 'logo_url': '/media/restaurant_logos/콤비네이션_피자02_20131128_FoodAD_crop_200x200.jpg', 'except_cash': False, 'name': '피자마스터', 'section_pos': 8, 'owner_reply_count': 0, 'one_dish': 1, 'discount_percent': 0, 'advertisement_type': 'contract', 'phone_order': True, 'dine_in': False, 'advertisement_rank': 1, 'thumbnail_message': '', 'additional_discount_pickup_per_menu': 0, 'open_time_description': '12:00 - 00:00', 'keywords': '피자마스터 세트메뉴 셋트1치즈크러스트（M）＋스파게티or핫윙6조각＋콜라500mL 피자 콤비네이션피자 사이드메뉴 갈릭소스 사이드메뉴 콜라1.25L 세트메뉴 셋트2치즈크러스트（L）＋스파게티or핫윙6조각＋콜라1.25L 피자 불고기피자 사이드메뉴 콜라500mL 피자 포테이토피자 피자 고구마피자 사이드메뉴 스파게티', 'new_rating': 1.4226064635916222, 'app_order': True, 'premium': {}, 'lng': 127.0658544, 'list_pos': 18, 'id': 19052, 'can_review': 0, 'estimated_delivery_time': '25~35분', 'additional_discount_pickup_only_for_user': False, 'review_count': 1977, 'relay_methods': ['email', 'box_helicom'], 'section': 'contract', 'loyal_score': 26.2425595538225, 'thumbnail_url': 'https://rev-static.yogiyo.co.kr/restaurants/thumbnail/stock_img/%ED%94%BC%EC%9E%90%EC%96%91%EC%8B%9D/%EC%9D%BC%EB%B0%98%EB%8F%84%EC%9A%B0%ED%94%BC%EC%9E%90/%EC%8A%A4%ED%83%81_20181015_foodad_fad03030-mid_%EC%8A%88%ED%8D%BC%EC%8A%88%ED%94%84%EB%A6%BC%ED%94%BC%EC%9E%9001_1080x640.jpg', 'reachable': True, 'additional_discount': 0, 'new': False, 'minimum_pickup_minutes': 0, 'has_loyalty_support': True, 'begin': '12:00:00', 'description': '', 'tags': [], 'address': '서울 광진구 자양4동 845-3', 'lat': 37.5376961, 'end': '00:00:00', 'slug': '마스터피자(자양동)', 'review_avg': 4.47344461305008, 'discount_from': None, 'top28': False, 'url': '', 'foodfly_restaurant_id': None, 'payment_methods': ['creditcard', 'online'], 'takeout': False}, {'rating': 200006.0, 'subtitle': '', 'additional_discount_currently_active': False, 'free_delivery_threshold': 0, 'delivery_fee_explanation': '배달 요금 2000원, 최소 주문 금액 11000원', 'is_available_delivery': True, 'threshold': 8000, 'adv_distance': None, 'open': True, 'discount_until': None, 'central_billing': False, 'city': '서울', 'review_reply_count': 0, 'sms_bonus': False, 'franchise_id': None, 'phone_downlisted': False, 'franchise_name': None, 'review_image_count': 0, 'top100_restaurant': False, 'is_available_pickup': False, 'additional_discount_per_menu': 0, 'delivery_fee': 2000, 'additional_discount_pickup': 0, 'phone': '050712959709', 'additional_discount_only_for_user': False, 'has_terminal': False, 'categories': ['일식돈까스'], 'min_order_amount': 11000, 'distance': 1.0451445462029263, 'logo_url': '/media/restaurant_logos/카레당-본점_20181130_가맹로고이미지약정서_crop_200x200.jpg', 'except_cash': False, 'name': '카레당-본점', 'section_pos': 9, 'relay_methods': ['email', 'sms_relay'], 'one_dish': 0, 'discount_percent': 0, 'advertisement_type': 'contract', 'phone_order': True, 'dine_in': False, 'advertisement_rank': 1, 'thumbnail_message': '', 'additional_discount_pickup_per_menu': 0, 'open_time_description': '11:00 - 21:30', 'keywords': '카레당-본점 카레메뉴 치킨스파이시카레 카레메뉴 돈까스스파이시카레 음료메뉴 웰치스포도355mL（뚱캔） 카레메뉴 돈까스크림카레 카레메뉴 새우크림카레 카레메뉴 치킨크림카레 다양한컨디먼트메뉴 매콤한레드페퍼추가 다양한컨디먼트메뉴 얼얼한고춧가루추가 다양한컨디먼트메뉴 대파추가 음료메뉴 코카콜라355mL（뚱캔）', 'new_rating': 0.39097109075941466, 'app_order': True, 'premium': {}, 'lng': 127.069513220933, 'list_pos': 19, 'id': 301625, 'can_review': 0, 'estimated_delivery_time': '', 'additional_discount_pickup_only_for_user': False, 'review_count': 0, 'owner_reply_count': 0, 'section': 'contract', 'loyal_score': 0.0, 'thumbnail_url': '', 'reachable': True, 'additional_discount': 0, 'new': True, 'minimum_pickup_minutes': 0, 'has_loyalty_support': True, 'begin': '11:00:00', 'description': '', 'tags': [], 'address': '서울 광진구 화양동 15-44 102호', 'lat': 37.5448151011324, 'end': '21:30:00', 'slug': '카레당-본점', 'review_avg': 0.0, 'discount_from': None, 'top28': False, 'url': '', 'foodfly_restaurant_id': None, 'payment_methods': ['creditcard', 'online'], 'takeout': False}, {'rating': 200032.348626957, 'subtitle': '', 'additional_discount_currently_active': True, 'free_delivery_threshold': 0, 'delivery_fee_explanation': '최소 주문 금액 20000원 이상', 'is_available_delivery': True, 'threshold': 10000, 'adv_distance': None, 'open': True, 'discount_until': '2018-12-03T21:59:59.999999', 'central_billing': False, 'city': '서울', 'review_reply_count': 16, 'sms_bonus': False, 'franchise_id': 28, 'phone_downlisted': False, 'franchise_name': '(주)원앤원 / 원할머니보쌈', 'review_image_count': 50, 'top100_restaurant': False, 'is_available_pickup': False, 'additional_discount_per_menu': 3000, 'delivery_fee': 0, 'additional_discount_pickup': 0, 'phone': '050352575370', 'additional_discount_only_for_user': True, 'has_terminal': True, 'categories': ['족발보쌈', '프랜차이즈'], 'min_order_amount': 20000, 'distance': 0.7048500274915713, 'logo_url': '/media/restaurant_logos/원할머니보쌈02_20150716_Franchise이미지약정서_crop_200x200.jpg', 'except_cash': False, 'name': '원할머니보쌈-성수점', 'section_pos': 10, 'owner_reply_count': 16, 'one_dish': 0, 'discount_percent': 10, 'advertisement_type': 'contract', 'phone_order': True, 'dine_in': False, 'advertisement_rank': 1, 'thumbnail_message': '', 'additional_discount_pickup_per_menu': 0, 'open_time_description': '12:00 - 23:59', 'keywords': '원할머니보쌈-성수점 보쌈류 모둠보쌈 보쌈류 솜씨보쌈 보쌈류 간장통마늘떡보쌈 세트메뉴 보족원쌈（2인） 추가메뉴 새싹쟁반무침면小 족발류 부드러운족발（대） 보쌈류 맛보쌈 세트메뉴 커플원쌈 족발류 반반족발 세트메뉴 보족원쌈（3인）', 'new_rating': 1.0052576006454577, 'app_order': True, 'premium': {}, 'lng': 127.0545404, 'list_pos': 20, 'id': 54607, 'can_review': 0, 'estimated_delivery_time': '30~40분', 'additional_discount_pickup_only_for_user': False, 'review_count': 271, 'relay_methods': ['email', 'box_helicom', 'sms_relay'], 'section': 'contract', 'loyal_score': 13.6556901535943, 'thumbnail_url': '', 'reachable': True, 'additional_discount': 0, 'new': False, 'minimum_pickup_minutes': 0, 'has_loyalty_support': True, 'begin': '12:00:00', 'description': '', 'tags': [], 'address': '서울 성동구 성수동2가 333-15', 'lat': 37.5397772, 'end': '23:59:00', 'slug': '원할머니보쌈-성수점', 'review_avg': 4.38376383763838, 'discount_from': '2018-12-03T16:00:00', 'top28': True, 'url': '', 'foodfly_restaurant_id': None, 'payment_methods': ['creditcard', 'online'], 'takeout': False}]}\n"
     ]
    }
   ],
   "source": [
    "import requests\n",
    "import json\n",
    "\n",
    "json_url = 'https://www.yogiyo.co.kr/api/v1/restaurants-geo/?items=20&lat=37.545583199999996&lng=127.0577153&order=rank&page=0&search=&zip_code=133123'\n",
    "\n",
    "\n",
    "# header_params = {\"X-Naver-Client-Id\":client_key, \"X-Naver-Client-Secret\":client_secret}\n",
    "header_params = {\"X-ApiKey\": \"iphoneap\", \"X-ApiSecret\":\"fe5183cc3dea12bd0ce299cf110a75a2\"}\n",
    "\n",
    "# X-ApiKey: iphoneap\n",
    "# X-ApiSecret: fe5183cc3dea12bd0ce299cf110a75a2\n",
    "# response = requests.get(naver_url, headers = header_params)\n",
    "\n",
    "response = requests.get(json_url, headers = header_params).text\n",
    " \n",
    "#json모듈을 사용해서 로드\n",
    "data_list = json.loads(response)\n",
    " \n",
    "print(data_list)"
   ]
  },
  {
   "cell_type": "code",
   "execution_count": null,
   "metadata": {},
   "outputs": [],
   "source": []
  }
 ],
 "metadata": {
  "kernelspec": {
   "display_name": "Python 3",
   "language": "python",
   "name": "python3"
  },
  "language_info": {
   "codemirror_mode": {
    "name": "ipython",
    "version": 3
   },
   "file_extension": ".py",
   "mimetype": "text/x-python",
   "name": "python",
   "nbconvert_exporter": "python",
   "pygments_lexer": "ipython3",
   "version": "3.6.6"
  }
 },
 "nbformat": 4,
 "nbformat_minor": 2
}
